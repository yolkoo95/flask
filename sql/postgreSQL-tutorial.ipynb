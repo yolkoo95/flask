{
 "cells": [
  {
   "cell_type": "markdown",
   "metadata": {},
   "source": [
    "# PostgreSQL Tutorial"
   ]
  },
  {
   "cell_type": "markdown",
   "metadata": {},
   "source": [
    "## Installation\n",
    "---"
   ]
  },
  {
   "cell_type": "markdown",
   "metadata": {},
   "source": [
    "&emsp;&emsp;A better way to install postgreSQL is by [PostgreSQL.org][1]  , and instructed by documentation, select your system and the version of postgreSQL that you want to install in your machine, and then install it by yum repository with following command,\n",
    "\n",
    "``` ruby\n",
    "     yum install url_for_postgreSQL\n",
    "```\n",
    "\n",
    "&emsp;&emsp;then, install the client packages,\n",
    "\n",
    "``` ruby\n",
    "     yum install postgresql12\n",
    "```\n",
    "&emsp;&emsp;_Note: it is assumed the version of postgreSQL is 12.1_\n",
    "\n",
    "&emsp;&emsp;Optionally install the server packages,\n",
    "\n",
    "``` ruby\n",
    "     yum install postgresql12-server\n",
    "```\n",
    "\n",
    "&emsp;&emsp;Optionally install the developer packages,\n",
    "\n",
    "``` ruby\n",
    "     yum install postgresql12-devel postgresql12-contrib\n",
    "```\n",
    "\n",
    "&emsp;&emsp;Optionally initialize the database and enable automatic start,\n",
    "\n",
    "``` ruby\n",
    "     service postgresql-12 initdb\n",
    "     chkconfig postgresql-12 on\n",
    "     service postgresql-12 start\n",
    "```\n",
    "\n",
    "&emsp;&emsp;Due to policies for Red Hat family distributions, the PostgreSQL installation will not be enabled for automatic start or have the database initialized automatically. To make your database installation complete, we need to perform the following steps for CentOS 6.X:\n",
    "\n",
    "``` ruby\n",
    "     service postgresql initdb\n",
    "     chkconfig postgresql on\n",
    "```\n",
    "\n",
    "&emsp;&emsp;Now, we have finished installation on our machine.\n",
    "\n",
    "[1]:https://www.postgresql.org/download/linux/redhat/"
   ]
  },
  {
   "cell_type": "markdown",
   "metadata": {},
   "source": [
    "## Management\n",
    "---"
   ]
  },
  {
   "cell_type": "markdown",
   "metadata": {},
   "source": [
    "&emsp;&emsp;Change your role into postgres, and execute `psql`, for the default authentication methed is peer and the name of default database is postgres,\n",
    "``` ruby\n",
    "    sudo su - postgres\n",
    "    psql\n",
    "```\n",
    "\n",
    "&emsp;&emsp;Then we are in the database postgres with default administator postgres, now we are able to configure our database. There are some syntax whereby we can manage users and database of postgreSQL.\n",
    "\n",
    "#### Create User\n",
    "&emsp;&emsp;To create user foo1 with password foo111,\n",
    "``` ruby\n",
    "    CREATE USER foo1 WITH PASSWORD 'foo111';\n",
    "```\n",
    "&emsp;&emsp;_Note: every command must be ended with semicolon_\n",
    "\n",
    "#### Set/Alter Password For User\n",
    "&emsp;&emsp;To alter the password of user foo1 into 'foo112',\n",
    "``` ruby\n",
    "    ALTER USER foo1 PASSWORD 'foo112';\n",
    "```\n",
    "&emsp;&emsp;For user foo1 to change its own password,\n",
    "``` ruby\n",
    "    # Enter database first, and then input\n",
    "    $ \\password\n",
    "```\n",
    "\n",
    "#### Create Database\n",
    "&emsp;&emsp;To create database foo1db for user foo1,\n",
    "``` ruby\n",
    "    CREATE DATABASE foo1db OWNER foo1;\n",
    "```\n",
    "&emsp;&emsp;and grant all privileges of foo1db to foo1,\n",
    "``` ruby\n",
    "    GRANT ALL PRIVILEGES ON DATABASE foo1db TO foo1;\n",
    "```\n",
    "\n",
    "#### Drop Database\n",
    "&emsp;&emsp;To delete database foo1db,\n",
    "``` ruby\n",
    "    DROP DATABASE foo1db;\n",
    "```\n",
    "&emsp;&emsp;_Note: users(except postgres) are allowed to delete database that they own._\n",
    "\n",
    "#### Drop Users\n",
    "&emsp;&emsp;To delete user foo1,\n",
    "``` ruby\n",
    "    DROPUSER foo1;\n",
    "```\n",
    "\n",
    "&emsp;&emsp;These are some basic commands to manage database."
   ]
  },
  {
   "cell_type": "markdown",
   "metadata": {},
   "source": [
    "## Remote Connection Configuration\n",
    "---"
   ]
  },
  {
   "cell_type": "markdown",
   "metadata": {},
   "source": [
    "&emsp;&emsp;In this section, we will show how to set postgreSQL so that we can connect postgreSQL server from other machines.\n",
    "\n",
    "#### Setting for File pg_hba.conf\n",
    "&emsp;&emsp;In default directory, which is in `/var/lib/pgsql/12/data` for postgresql-12, there are some configuration files. we need to make some changes to *pg_hba.conf*.\n",
    "``` ruby\n",
    "       TYPE  DATABASE  USER    ADDRESS    METHOD\n",
    "    -  local    all    all    0.0.0.0/0    peer\n",
    "    +  host     all    all    0.0.0.0/0    md5\n",
    "```\n",
    "&emsp;&emsp;And then we are able to login in database by password which is encrypted in md5.\n",
    "\n",
    "&emsp;&emsp;_Note: we can also set specific user from specific address login into specific database, more information are shown in *pg_hba.conf*._\n",
    "\n",
    "#### Setting for File postgresql.conf\n",
    "&emsp;&emsp;Again in default directory, some changes need to be made for *postgresql.conf*.\n",
    "``` ruby\n",
    "    + listen_addresses = '*'\n",
    "```\n",
    "&emsp;&emsp;And we can also set port in the file.\n",
    "\n",
    "#### Setting for Firewall Rules\n",
    "&emsp;&emsp;For whatever reason, the default port of postgreSQL, i.e. `port=5432`, could be stopped, and then we need to open that port as follows,\n",
    "\n",
    "- find firewall configuration file at `/etc/sysconfig/iptables`\n",
    "- modify firewall rules to allow port 5432 to be listened\n",
    "\n",
    "``` ruby\n",
    "    -A INPUT -m state --state NEW -m tcp -p tcp --dport 5432 -j ACCEPT\n",
    "```\n",
    "- restart iptables service\n",
    "\n",
    "``` ruby\n",
    "    service iptables restart\n",
    "```\n",
    "\n",
    "&emsp;&emsp; Other ports are set in same way."
   ]
  },
  {
   "cell_type": "markdown",
   "metadata": {},
   "source": [
    "## SQLAlchemy Installation\n",
    "---"
   ]
  },
  {
   "cell_type": "markdown",
   "metadata": {},
   "source": [
    "&emsp;&emsp;There are some important libraries need to be installed, so that we can manipulate postgerSQL via Python or other program languages. Here we start to install sqlalchemy.\n",
    "\n",
    "#### Prerequisite\n",
    "- `python.devel` must be installed on the machine\n",
    "- The pg_config program shoud be added into `PATH`\n",
    "\n",
    "``` ruby\n",
    "    PATH=/usr/pgsql-12/bin/:$PATH:$HOME/bin\n",
    "```\n",
    "\n",
    "#### Installation\n",
    "&emsp;&emsp;WE can install sqlalchemy by pip(python installation management) as follows,\n",
    "``` ruby\n",
    "    pip3 install sqlalchemy\n",
    "    pip3 install psycopg2 \n",
    "```\n",
    "&emsp;&emsp;_Note that psycopg2 is a library that sqlalchemy will call for._"
   ]
  },
  {
   "cell_type": "markdown",
   "metadata": {},
   "source": [
    "## PostgreSQL Syntax\n",
    "---"
   ]
  },
  {
   "cell_type": "markdown",
   "metadata": {},
   "source": [
    "&emsp;&emsp;There are many good websites to learn postgreSQL syntax, e.g. [runoob.com](https://www.runoob.com/postgresql/postgresql-syntax.html). \n",
    "\n",
    "Lucky for you \\[\\]\\~(￣▽￣)\\~\\*"
   ]
  }
 ],
 "metadata": {
  "kernelspec": {
   "display_name": "Python 3",
   "language": "python",
   "name": "python3"
  },
  "language_info": {
   "codemirror_mode": {
    "name": "ipython",
    "version": 3
   },
   "file_extension": ".py",
   "mimetype": "text/x-python",
   "name": "python",
   "nbconvert_exporter": "python",
   "pygments_lexer": "ipython3",
   "version": "3.7.1"
  }
 },
 "nbformat": 4,
 "nbformat_minor": 4
}
